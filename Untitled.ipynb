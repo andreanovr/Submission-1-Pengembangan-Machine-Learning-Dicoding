{
  "nbformat": 4,
  "nbformat_minor": 0,
  "metadata": {
    "colab": {
      "name": "Untitled.ipynb",
      "provenance": []
    },
    "kernelspec": {
      "name": "python3",
      "display_name": "Python 3"
    }
  },
  "cells": [
    {
      "cell_type": "code",
      "metadata": {
        "id": "r815xuMI3Jw2",
        "colab_type": "code",
        "colab": {}
      },
      "source": [
        "import pandas as pd\n",
        "df = pd.read_csv('sample_data/ramen-ratings.csv')"
      ],
      "execution_count": 3,
      "outputs": []
    },
    {
      "cell_type": "code",
      "metadata": {
        "id": "GB-S6aV9-Q07",
        "colab_type": "code",
        "colab": {}
      },
      "source": [
        "from keras.layers import Input, LSTM, Bidirectional, SpatialDropout1D, Dropout, Flatten, Dense, Embedding, BatchNormalization\n",
        "from keras.models import Model\n",
        "from keras.callbacks import EarlyStopping\n",
        "from keras.preprocessing.text import Tokenizer, text_to_word_sequence\n",
        "from keras.preprocessing.sequence import pad_sequences\n",
        "from keras.utils import to_categorical\n",
        "import nltk, os, re, string\n",
        "from nltk.corpus import stopwords"
      ],
      "execution_count": 18,
      "outputs": []
    },
    {
      "cell_type": "code",
      "metadata": {
        "id": "RnmULjsf4s21",
        "colab_type": "code",
        "colab": {}
      },
      "source": [
        "Style = pd.get_dummies(df.Style)\n",
        "df_baru = pd.concat([df, Style], axis=1)\n",
        "df_baru = df_baru.drop(columns='Style')\n",
        "\n",
        "df_baru"
      ],
      "execution_count": null,
      "outputs": []
    },
    {
      "cell_type": "code",
      "metadata": {
        "id": "4ViqoJ8j5M1m",
        "colab_type": "code",
        "colab": {}
      },
      "source": [
        "news = df_baru['Variety'].values\n",
        "label = df_baru[['Bar',\t'Bowl',\t'Box',\t'Can',\t'Cup',\t'Pack',\t'Tray']].values"
      ],
      "execution_count": 23,
      "outputs": []
    },
    {
      "cell_type": "code",
      "metadata": {
        "id": "MpqPK_ry5_87",
        "colab_type": "code",
        "colab": {}
      },
      "source": [
        "from sklearn.model_selection import train_test_split\n",
        "news_train, news_test, label_train, label_test = train_test_split(news, label, test_size=0.2)\n",
        "\n",
        "from tensorflow.keras.preprocessing.text import Tokenizer\n",
        "from tensorflow.keras.preprocessing.sequence import pad_sequences\n",
        " \n",
        "tokenizer = Tokenizer(num_words=5000, oov_token='zn')\n",
        "tokenizer.fit_on_texts(news_train) \n",
        " \n",
        "sekuens_latih = tokenizer.texts_to_sequences(news_train)\n",
        "sekuens_test = tokenizer.texts_to_sequences(news_test)\n",
        " \n",
        "padded_latih = pad_sequences(sekuens_latih) \n",
        "padded_test = pad_sequences(sekuens_test)"
      ],
      "execution_count": 24,
      "outputs": []
    },
    {
      "cell_type": "code",
      "metadata": {
        "id": "vhXtG07o6Iyx",
        "colab_type": "code",
        "colab": {}
      },
      "source": [
        "import tensorflow as tf\n",
        "from tensorflow.python.keras import regularizers\n",
        "model = tf.keras.Sequential([\n",
        "    tf.keras.layers.Embedding(input_dim=5000, output_dim=16),\n",
        "    tf.keras.layers.LSTM(64),\n",
        "    tf.keras.layers.Dense(128,activation = 'relu', kernel_regularizer=regularizers.l2(0.001)),\n",
        "    tf.keras.layers.Dropout(0.5),\n",
        "    tf.keras.layers.Dense(7, activation='softmax')\n",
        "])\n",
        "model.compile(loss='categorical_crossentropy',optimizer='adam',metrics=['accuracy'])\n",
        "model.summary()"
      ],
      "execution_count": null,
      "outputs": []
    },
    {
      "cell_type": "code",
      "metadata": {
        "id": "kYcNEb_E6KGp",
        "colab_type": "code",
        "colab": {}
      },
      "source": [
        "class myCallback(tf.keras.callbacks.Callback):\n",
        "  def on_epoch_end(self, epoch, logs={}):\n",
        "    if(logs.get('accuracy')>0.75 and logs.get('val_accuracy')>0.75):\n",
        "      print(\"\\nAkurasi pada training set dan validation set telah mencapai >70%!\")\n",
        "      self.model.stop_training = True\n",
        "callbacks = myCallback()"
      ],
      "execution_count": 26,
      "outputs": []
    },
    {
      "cell_type": "code",
      "metadata": {
        "id": "REG4AN6-7Q8L",
        "colab_type": "code",
        "colab": {
          "base_uri": "https://localhost:8080/",
          "height": 1000
        },
        "outputId": "27790f50-8833-4bb0-b78c-0b95f15344af"
      },
      "source": [
        "num_epochs = 50\n",
        "history = model.fit(padded_latih, label_train, epochs=num_epochs, \n",
        "                    validation_data=(padded_test, label_test), verbose=2, callbacks=[callbacks])"
      ],
      "execution_count": 27,
      "outputs": [
        {
          "output_type": "stream",
          "text": [
            "Epoch 1/50\n",
            "65/65 - 1s - loss: 1.4562 - accuracy: 0.5673 - val_loss: 1.1525 - val_accuracy: 0.6027\n",
            "Epoch 2/50\n",
            "65/65 - 0s - loss: 1.1622 - accuracy: 0.5882 - val_loss: 1.1116 - val_accuracy: 0.6027\n",
            "Epoch 3/50\n",
            "65/65 - 0s - loss: 1.1233 - accuracy: 0.5911 - val_loss: 1.0422 - val_accuracy: 0.6027\n",
            "Epoch 4/50\n",
            "65/65 - 0s - loss: 1.0325 - accuracy: 0.5969 - val_loss: 0.9686 - val_accuracy: 0.6143\n",
            "Epoch 5/50\n",
            "65/65 - 0s - loss: 0.9126 - accuracy: 0.6623 - val_loss: 0.9224 - val_accuracy: 0.6628\n",
            "Epoch 6/50\n",
            "65/65 - 0s - loss: 0.8022 - accuracy: 0.7078 - val_loss: 0.8631 - val_accuracy: 0.6880\n",
            "Epoch 7/50\n",
            "65/65 - 0s - loss: 0.7155 - accuracy: 0.7607 - val_loss: 0.8529 - val_accuracy: 0.7132\n",
            "Epoch 8/50\n",
            "65/65 - 0s - loss: 0.6305 - accuracy: 0.7941 - val_loss: 0.8545 - val_accuracy: 0.7248\n",
            "Epoch 9/50\n",
            "65/65 - 0s - loss: 0.5739 - accuracy: 0.8101 - val_loss: 0.8271 - val_accuracy: 0.7074\n",
            "Epoch 10/50\n",
            "65/65 - 0s - loss: 0.5335 - accuracy: 0.8164 - val_loss: 0.8263 - val_accuracy: 0.7248\n",
            "Epoch 11/50\n",
            "65/65 - 0s - loss: 0.4892 - accuracy: 0.8295 - val_loss: 0.8961 - val_accuracy: 0.7209\n",
            "Epoch 12/50\n",
            "65/65 - 0s - loss: 0.4826 - accuracy: 0.8241 - val_loss: 0.8422 - val_accuracy: 0.7248\n",
            "Epoch 13/50\n",
            "65/65 - 0s - loss: 0.4381 - accuracy: 0.8527 - val_loss: 0.8746 - val_accuracy: 0.7287\n",
            "Epoch 14/50\n",
            "65/65 - 0s - loss: 0.4234 - accuracy: 0.8653 - val_loss: 0.8554 - val_accuracy: 0.7326\n",
            "Epoch 15/50\n",
            "65/65 - 0s - loss: 0.4021 - accuracy: 0.8711 - val_loss: 0.9338 - val_accuracy: 0.7267\n",
            "Epoch 16/50\n",
            "65/65 - 0s - loss: 0.3774 - accuracy: 0.8765 - val_loss: 0.8531 - val_accuracy: 0.7326\n",
            "Epoch 17/50\n",
            "65/65 - 0s - loss: 0.3889 - accuracy: 0.8760 - val_loss: 0.8865 - val_accuracy: 0.7422\n",
            "Epoch 18/50\n",
            "65/65 - 0s - loss: 0.3588 - accuracy: 0.8755 - val_loss: 0.9117 - val_accuracy: 0.7112\n",
            "Epoch 19/50\n",
            "65/65 - 0s - loss: 0.3569 - accuracy: 0.8876 - val_loss: 0.8738 - val_accuracy: 0.7229\n",
            "Epoch 20/50\n",
            "65/65 - 0s - loss: 0.3315 - accuracy: 0.8910 - val_loss: 0.9437 - val_accuracy: 0.7345\n",
            "Epoch 21/50\n",
            "65/65 - 0s - loss: 0.3371 - accuracy: 0.8866 - val_loss: 0.8934 - val_accuracy: 0.7306\n",
            "Epoch 22/50\n",
            "65/65 - 0s - loss: 0.3254 - accuracy: 0.8866 - val_loss: 0.8962 - val_accuracy: 0.7345\n",
            "Epoch 23/50\n",
            "65/65 - 0s - loss: 0.3054 - accuracy: 0.8939 - val_loss: 0.9319 - val_accuracy: 0.7345\n",
            "Epoch 24/50\n",
            "65/65 - 0s - loss: 0.3020 - accuracy: 0.8963 - val_loss: 0.9512 - val_accuracy: 0.7074\n",
            "Epoch 25/50\n",
            "65/65 - 0s - loss: 0.3203 - accuracy: 0.8934 - val_loss: 0.9446 - val_accuracy: 0.7287\n",
            "Epoch 26/50\n",
            "65/65 - 0s - loss: 0.2865 - accuracy: 0.8978 - val_loss: 1.0193 - val_accuracy: 0.7422\n",
            "Epoch 27/50\n",
            "65/65 - 0s - loss: 0.2777 - accuracy: 0.8997 - val_loss: 0.9279 - val_accuracy: 0.7442\n",
            "Epoch 28/50\n",
            "65/65 - 0s - loss: 0.2811 - accuracy: 0.9012 - val_loss: 0.9760 - val_accuracy: 0.7384\n",
            "Epoch 29/50\n",
            "\n",
            "Akurasi pada training set dan validation set telah mencapai >70%!\n",
            "65/65 - 0s - loss: 0.2798 - accuracy: 0.8949 - val_loss: 0.9612 - val_accuracy: 0.7519\n"
          ],
          "name": "stdout"
        }
      ]
    },
    {
      "cell_type": "code",
      "metadata": {
        "id": "O_c9hcIcXj7e",
        "colab_type": "code",
        "colab": {
          "base_uri": "https://localhost:8080/",
          "height": 573
        },
        "outputId": "83182469-3c81-4653-b676-3b261c18a3b3"
      },
      "source": [
        "import matplotlib.pyplot as plt\n",
        "plt.plot(history.history['accuracy'])\n",
        "plt.plot(history.history['val_accuracy'])\n",
        "plt.title('Akurasi Model')\n",
        "plt.ylabel('accuracy')\n",
        "plt.xlabel('epoch')\n",
        "plt.legend(['train', 'test'], loc='upper left')\n",
        "plt.show()\n",
        "\n",
        "plt.plot(history.history['loss'])\n",
        "plt.plot(history.history['val_loss'])\n",
        "plt.title('Loss Model')\n",
        "plt.ylabel('loss')\n",
        "plt.xlabel('epoch')\n",
        "plt.legend(['train', 'test'], loc='upper left')\n",
        "plt.show()"
      ],
      "execution_count": 28,
      "outputs": [
        {
          "output_type": "display_data",
          "data": {
            "image/png": "[encoded data removed]",
            "text/plain": [
              "<Figure size 432x288 with 1 Axes>"
            ]
          },
          "metadata": {
            "tags": [],
            "needs_background": "light"
          }
        },
        {
          "output_type": "display_data",
          "data": {
            "image/png": "[encoded data removed]",
            "text/plain": [
              "<Figure size 432x288 with 1 Axes>"
            ]
          },
          "metadata": {
            "tags": [],
            "needs_background": "light"
          }
        }
      ]
    }
  ]
}